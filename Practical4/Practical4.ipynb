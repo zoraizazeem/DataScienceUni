{
 "cells": [
  {
   "cell_type": "markdown",
   "metadata": {},
   "source": [
    "# Data Linkage\n",
    "\n",
    "The title of the notebook should be coherent with file name. Namely, file name should be:    \n",
    "*author's initials_progressive number_title.ipynb*    \n",
    "For example:    \n",
    "*EF_01_Data Exploration.ipynb*\n",
    "\n",
    "## Purpose\n",
    "formative asignements for \n",
    "## Methodology\n",
    "naive combining data sets.\n",
    "then blocking.\n",
    "chekcing method efficiency using \"reduction ratio\"\n",
    "## WIP - improvements\n",
    "Use this section only if the notebook is not final.\n",
    "\n",
    "Notable TODOs:\n",
    "- group number of patients seen by LA_code;\n",
    "- todo 2;\n",
    "- todo 3.\n",
    "\n",
    "## Results\n",
    "Describe and comment the most important results.\n",
    "\n",
    "## Suggested next steps\n",
    "State suggested next steps, based on results obtained in this notebook."
   ]
  },
  {
   "cell_type": "markdown",
   "metadata": {},
   "source": [
    "# Setup\n",
    "\n",
    "## Library import\n",
    "We import all the required Python libraries"
   ]
  },
  {
   "cell_type": "code",
   "execution_count": 114,
   "metadata": {},
   "outputs": [
    {
     "data": {
      "text/html": [
       "        <script type=\"text/javascript\">\n",
       "        window.PlotlyConfig = {MathJaxConfig: 'local'};\n",
       "        if (window.MathJax) {MathJax.Hub.Config({SVG: {font: \"STIX-Web\"}});}\n",
       "        if (typeof require !== 'undefined') {\n",
       "        require.undef(\"plotly\");\n",
       "        requirejs.config({\n",
       "            paths: {\n",
       "                'plotly': ['https://cdn.plot.ly/plotly-latest.min']\n",
       "            }\n",
       "        });\n",
       "        require(['plotly'], function(Plotly) {\n",
       "            window._Plotly = Plotly;\n",
       "        });\n",
       "        }\n",
       "        </script>\n",
       "        "
      ]
     },
     "metadata": {},
     "output_type": "display_data"
    }
   ],
   "source": [
    "# Data manipulation\n",
    "import pandas as pd\n",
    "import numpy as np\n",
    "\n",
    "# Options for pandas\n",
    "pd.options.display.max_columns = 50\n",
    "pd.options.display.max_rows = 30\n",
    "\n",
    "# Visualizations\n",
    "import plotly\n",
    "import plotly.graph_objs as go\n",
    "import plotly.offline as ply\n",
    "plotly.offline.init_notebook_mode(connected=True)\n",
    "\n",
    "'''import cufflinks as cf\n",
    "cf.go_offline(connected=True)\n",
    "cf.set_config_file(theme='white')'''\n",
    "\n",
    "import matplotlib as plt\n",
    "\n",
    "# Autoreload extension\n",
    "if 'autoreload' not in get_ipython().extension_manager.loaded:\n",
    "    %load_ext autoreload\n",
    "    \n",
    "%autoreload 2"
   ]
  },
  {
   "cell_type": "markdown",
   "metadata": {},
   "source": [
    "## Local library import\n",
    "We import all the required local libraries libraries"
   ]
  },
  {
   "cell_type": "code",
   "execution_count": 115,
   "metadata": {},
   "outputs": [],
   "source": [
    "# Include local library paths\n",
    "import sys\n",
    "# sys.path.append('path/to/local/lib') # uncomment and fill to import local libraries\n",
    "\n",
    "# Import local libraries"
   ]
  },
  {
   "cell_type": "markdown",
   "metadata": {},
   "source": [
    "# Parameter definition\n",
    "We set all relevant parameters for our notebook. By convention, parameters are uppercase, while all the \n",
    "other variables follow Python's guidelines."
   ]
  },
  {
   "cell_type": "markdown",
   "metadata": {},
   "source": [
    "\n",
    "# Data import\n",
    "\n",
    "## r21ewrttableks101ewladv1_tcm77-290562.xls = dataset2\n",
    "## nhs-dent-stat-eng-17-18-anx3-ps-prac-edited.csv = dataset1\n",
    "\n",
    "We retrieve all the required data for the analysis."
   ]
  },
  {
   "cell_type": "markdown",
   "metadata": {},
   "source": [
    "# Data processing\n",
    "Put here the core of the notebook. Feel free di further split this section into subsections."
   ]
  },
  {
   "cell_type": "markdown",
   "metadata": {},
   "source": [
    "# References\n",
    "We report here relevant references:\n",
    "1. author1, article1, journal1, year1, url1\n",
    "2. author2, article2, journal2, year2, url2"
   ]
  },
  {
   "cell_type": "code",
   "execution_count": 116,
   "metadata": {},
   "outputs": [
    {
     "name": "stdout",
     "output_type": "stream",
     "text": [
      "The number of worksheets is 5\n",
      "Worksheet name(s): ['Information', 'KS101EW_Numbers', 'KS101EW_Percentages', 'KS101EW_Ranks', 'Metadata']\n",
      "Information 82 2\n"
     ]
    }
   ],
   "source": [
    "import xlrd\n",
    "book = xlrd.open_workbook(\"dataset2.xls\")\n",
    "print(\"The number of worksheets is {0}\".format(book.nsheets))\n",
    "print(\"Worksheet name(s): {0}\".format(book.sheet_names()))\n",
    "sh = book.sheet_by_index(0)\n",
    "print(\"{0} {1} {2}\".format(sh.name, sh.nrows, sh.ncols))\n"
   ]
  },
  {
   "cell_type": "code",
   "execution_count": 117,
   "metadata": {},
   "outputs": [],
   "source": [
    "dataset2_sheets = {}\n",
    "for i in book.sheet_names():\n",
    "    dataset2_sheets[i] = pd.read_excel (r'/Users/zoraizazeem/Documents/PProjects/DataScienceUni/Practical4/dataset2.xls', sheet_name=i)\n",
    "    dataset2_sheets[i].dropna(axis = 0, how = 'all', inplace = True)"
   ]
  },
  {
   "cell_type": "code",
   "execution_count": 118,
   "metadata": {},
   "outputs": [
    {
     "name": "stdout",
     "output_type": "stream",
     "text": [
      "Information\n",
      "                                           Unnamed: 0 Unnamed: 1\n",
      "5   2011 Census: Key Statistics for local authorit...        NaN\n",
      "6                          Published 11 December 2012        NaN\n",
      "8   This table is part of the 'Key Statistics for ...        NaN\n",
      "9   to the population estimates from the 2011 Cens...        NaN\n",
      "11  The release provides all Key Statistics tables...        NaN\n",
      "12  counties, London boroughs, districts and unita...        NaN\n",
      "14  Further releases of these Key Statistics and t...        NaN\n",
      "15  are published in early 2013 for Output Areas a...        NaN\n",
      "17  This release is in accordance with section 20 ...        NaN\n",
      "20                                    Confidentiality        NaN\n",
      "KS101EW_Numbers\n",
      "                                        Table KS101EW         Unnamed: 1  \\\n",
      "0   2011 Census: Usual resident population, local ...                NaN   \n",
      "2                                   England and Wales                NaN   \n",
      "3   Constituent Countries; Regions, counties, Lond...                NaN   \n",
      "4   authorities and districts in England; unitary ...                NaN   \n",
      "6                                All usual residents                 NaN   \n",
      "9                                           Area code          Area name   \n",
      "10                                                NaN                NaN   \n",
      "11                                                NaN                NaN   \n",
      "13                                          K04000001  ENGLAND AND WALES   \n",
      "15                                          E92000001            ENGLAND   \n",
      "\n",
      "   Unnamed: 2 Unnamed: 3           Unnamed: 4 Unnamed: 5 Unnamed: 6  \\\n",
      "0         NaN        NaN                  NaN        NaN        NaN   \n",
      "2         NaN        NaN                  NaN        NaN        NaN   \n",
      "3         NaN        NaN                  NaN        NaN        NaN   \n",
      "4         NaN        NaN                  NaN        NaN        NaN   \n",
      "6         NaN        NaN                  NaN        NaN        NaN   \n",
      "9         NaN        NaN  All categories: Sex      Males    Females   \n",
      "10        NaN        NaN              Persons    Persons    Persons   \n",
      "11        NaN        NaN               Number     Number     Number   \n",
      "13        NaN        NaN             56075912   27573376   28502536   \n",
      "15        NaN        NaN             53012456   26069148   26943308   \n",
      "\n",
      "              Unnamed: 7                         Unnamed: 8  \\\n",
      "0                    NaN                                NaN   \n",
      "2                    NaN                                NaN   \n",
      "3                    NaN                                NaN   \n",
      "4                    NaN                                NaN   \n",
      "6                    NaN                                NaN   \n",
      "9   Lives in a household  Lives in a communal establishment   \n",
      "10               Persons                            Persons   \n",
      "11                Number                             Number   \n",
      "13              55071113                            1004799   \n",
      "15              52059931                             952525   \n",
      "\n",
      "                                           Unnamed: 9 Unnamed: 10  \\\n",
      "0                                                 NaN         NaN   \n",
      "2                                                 NaN         NaN   \n",
      "3                                                 NaN         NaN   \n",
      "4                                                 NaN         NaN   \n",
      "6                                                 NaN         NaN   \n",
      "9   Schoolchild or full-time student aged 4 and ov...       Area    \n",
      "10                                            Persons    Hectares   \n",
      "11                                             Number      Number   \n",
      "13                                             685206    15101354   \n",
      "15                                             650145    13027843   \n",
      "\n",
      "                      Unnamed: 11  \n",
      "0                             NaN  \n",
      "2                             NaN  \n",
      "3                             NaN  \n",
      "4                             NaN  \n",
      "6                             NaN  \n",
      "9                         Density  \n",
      "10  Number of persons per hectare  \n",
      "11                           Rate  \n",
      "13                            3.7  \n",
      "15                            4.1  \n",
      "KS101EW_Percentages\n",
      "                                        Table KS101EW         Unnamed: 1  \\\n",
      "0   2011 Census: Usual resident population, local ...                NaN   \n",
      "2                                   England and Wales                NaN   \n",
      "3   Constituent Countries; Regions, counties, Lond...                NaN   \n",
      "4   authorities and districts in England; unitary ...                NaN   \n",
      "6                                All usual residents                 NaN   \n",
      "9                                           Area code          Area name   \n",
      "10                                                NaN                NaN   \n",
      "11                                                NaN                NaN   \n",
      "13                                          K04000001  ENGLAND AND WALES   \n",
      "15                                          E92000001            ENGLAND   \n",
      "\n",
      "   Unnamed: 2 Unnamed: 3           Unnamed: 4  Unnamed: 5  Unnamed: 6  \\\n",
      "0         NaN        NaN                  NaN         NaN         NaN   \n",
      "2         NaN        NaN                  NaN         NaN         NaN   \n",
      "3         NaN        NaN                  NaN         NaN         NaN   \n",
      "4         NaN        NaN                  NaN         NaN         NaN   \n",
      "6         NaN        NaN                  NaN         NaN         NaN   \n",
      "9         NaN        NaN  All categories: Sex       Males     Females   \n",
      "10        NaN        NaN              Persons     Persons     Persons   \n",
      "11        NaN        NaN               Number  Percentage  Percentage   \n",
      "13        NaN        NaN             56075912        49.2        50.8   \n",
      "15        NaN        NaN             53012456        49.2        50.8   \n",
      "\n",
      "              Unnamed: 7                         Unnamed: 8 Unnamed: 9  \\\n",
      "0                    NaN                                NaN        NaN   \n",
      "2                    NaN                                NaN        NaN   \n",
      "3                    NaN                                NaN        NaN   \n",
      "4                    NaN                                NaN        NaN   \n",
      "6                    NaN                                NaN        NaN   \n",
      "9   Lives in a household  Lives in a communal establishment      Area    \n",
      "10               Persons                            Persons   Hectares   \n",
      "11            Percentage                         Percentage     Number   \n",
      "13                  98.2                                1.8   15101354   \n",
      "15                  98.2                                1.8   13027843   \n",
      "\n",
      "                      Unnamed: 10  \n",
      "0                             NaN  \n",
      "2                             NaN  \n",
      "3                             NaN  \n",
      "4                             NaN  \n",
      "6                             NaN  \n",
      "9                         Density  \n",
      "10  Number of persons per hectare  \n",
      "11                           Rate  \n",
      "13                            3.7  \n",
      "15                            4.1  \n",
      "KS101EW_Ranks\n",
      "                                        Table KS101EW   Unnamed: 1  \\\n",
      "0   2011 Census: Usual resident population, local ...          NaN   \n",
      "2                                   England and Wales          NaN   \n",
      "3   Constituent Countries; Regions, counties, Lond...          NaN   \n",
      "4   authorities and districts in England;  unitary...          NaN   \n",
      "6                                All usual residents           NaN   \n",
      "9                                         Region code  Region name   \n",
      "10                                                NaN          NaN   \n",
      "11                                                NaN          NaN   \n",
      "14                                          E12000001   North East   \n",
      "15                                          E12000001   North East   \n",
      "\n",
      "     Unnamed: 2        Unnamed: 3           Unnamed: 4 Unnamed: 5 Unnamed: 6  \\\n",
      "0           NaN               NaN                  NaN        NaN        NaN   \n",
      "2           NaN               NaN                  NaN        NaN        NaN   \n",
      "3           NaN               NaN                  NaN        NaN        NaN   \n",
      "4           NaN               NaN                  NaN        NaN        NaN   \n",
      "6           NaN               NaN                  NaN        NaN        NaN   \n",
      "9   LAD/UA code       LAD/UA name  All categories: Sex      Males    Females   \n",
      "10          NaN               NaN              Persons    Persons    Persons   \n",
      "11          NaN               NaN               Number      Rank1      Rank1   \n",
      "14    E06000047  County Durham UA               513242        219        130   \n",
      "15    E06000005     Darlington UA               105564        258         91   \n",
      "\n",
      "              Unnamed: 7                         Unnamed: 8  \\\n",
      "0                    NaN                                NaN   \n",
      "2                    NaN                                NaN   \n",
      "3                    NaN                                NaN   \n",
      "4                    NaN                                NaN   \n",
      "6                    NaN                                NaN   \n",
      "9   Lives in a household  Lives in a communal establishment   \n",
      "10               Persons                            Persons   \n",
      "11                 Rank1                              Rank1   \n",
      "14                   286                                 63   \n",
      "15                   154                                195   \n",
      "\n",
      "                                           Unnamed: 9 Unnamed: 10  \\\n",
      "0                                                 NaN         NaN   \n",
      "2                                                 NaN         NaN   \n",
      "3                                                 NaN         NaN   \n",
      "4                                                 NaN         NaN   \n",
      "6                                                 NaN         NaN   \n",
      "9   Schoolchild or full-time student aged 4 and ov...       Area    \n",
      "10                                            Persons    Hectares   \n",
      "11                                              Rank1       Rank1   \n",
      "14                                                 13           9   \n",
      "15                                                258         183   \n",
      "\n",
      "                      Unnamed: 11  \n",
      "0                             NaN  \n",
      "2                             NaN  \n",
      "3                             NaN  \n",
      "4                             NaN  \n",
      "6                             NaN  \n",
      "9                         Density  \n",
      "10  Number of persons per hectare  \n",
      "11                          Rank1  \n",
      "14                            250  \n",
      "15                            178  \n",
      "Metadata\n",
      "                                         Definitions\n",
      "0                                               Area\n",
      "1  Area measurements are Standard Area Measuremen...\n",
      "2                             Communal establishment\n",
      "3  A communal establishment is an establishment p...\n",
      "4                                          Household\n",
      "5  A household is defined as one person living al...\n",
      "6                                 Population density\n",
      "7  Population density is the number of usual resi...\n",
      "8                       Schoolchildren and students \n",
      "9  Schoolchildren and students in full-time educa...\n"
     ]
    }
   ],
   "source": [
    "for key, values in dataset2_sheets.items():\n",
    "    print(key)\n",
    "    print(values[0:10])"
   ]
  },
  {
   "cell_type": "code",
   "execution_count": 119,
   "metadata": {},
   "outputs": [],
   "source": [
    "dataset1 = pd.read_csv('dataset1.csv', encoding= 'unicode_escape')\n",
    "# to note unicode_escape allows the code to not break on the existance of a small error"
   ]
  },
  {
   "cell_type": "code",
   "execution_count": 120,
   "metadata": {},
   "outputs": [
    {
     "data": {
      "text/html": [
       "<div>\n",
       "<style scoped>\n",
       "    .dataframe tbody tr th:only-of-type {\n",
       "        vertical-align: middle;\n",
       "    }\n",
       "\n",
       "    .dataframe tbody tr th {\n",
       "        vertical-align: top;\n",
       "    }\n",
       "\n",
       "    .dataframe thead th {\n",
       "        text-align: right;\n",
       "    }\n",
       "</style>\n",
       "<table border=\"1\" class=\"dataframe\">\n",
       "  <thead>\n",
       "    <tr style=\"text-align: right;\">\n",
       "      <th></th>\n",
       "      <th>Practice_Code</th>\n",
       "      <th>Practice_Name</th>\n",
       "      <th>LA_CODE</th>\n",
       "      <th>GOR10CD</th>\n",
       "      <th>Age_Band</th>\n",
       "      <th>PSEEN_TOTAL</th>\n",
       "    </tr>\n",
       "  </thead>\n",
       "  <tbody>\n",
       "    <tr>\n",
       "      <th>0</th>\n",
       "      <td>V00003</td>\n",
       "      <td>MISS KM BOLES</td>\n",
       "      <td>E10000032</td>\n",
       "      <td>E12000008</td>\n",
       "      <td>ADULT_24_months</td>\n",
       "      <td>2623</td>\n",
       "    </tr>\n",
       "    <tr>\n",
       "      <th>1</th>\n",
       "      <td>V00003</td>\n",
       "      <td>MISS KM BOLES</td>\n",
       "      <td>E10000032</td>\n",
       "      <td>E12000008</td>\n",
       "      <td>CHILD_12_months</td>\n",
       "      <td>801</td>\n",
       "    </tr>\n",
       "    <tr>\n",
       "      <th>2</th>\n",
       "      <td>V00004</td>\n",
       "      <td>Woodcroft Dental Practice Ltd</td>\n",
       "      <td>E10000032</td>\n",
       "      <td>E12000008</td>\n",
       "      <td>ADULT_24_months</td>\n",
       "      <td>1960</td>\n",
       "    </tr>\n",
       "    <tr>\n",
       "      <th>3</th>\n",
       "      <td>V00004</td>\n",
       "      <td>Woodcroft Dental Practice Ltd</td>\n",
       "      <td>E10000032</td>\n",
       "      <td>E12000008</td>\n",
       "      <td>CHILD_12_months</td>\n",
       "      <td>604</td>\n",
       "    </tr>\n",
       "    <tr>\n",
       "      <th>4</th>\n",
       "      <td>V00005</td>\n",
       "      <td>Apex Dental Care Ltd</td>\n",
       "      <td>E10000032</td>\n",
       "      <td>E12000008</td>\n",
       "      <td>ADULT_24_months</td>\n",
       "      <td>8516</td>\n",
       "    </tr>\n",
       "  </tbody>\n",
       "</table>\n",
       "</div>"
      ],
      "text/plain": [
       "  Practice_Code                  Practice_Name    LA_CODE    GOR10CD  \\\n",
       "0        V00003                  MISS KM BOLES  E10000032  E12000008   \n",
       "1        V00003                  MISS KM BOLES  E10000032  E12000008   \n",
       "2        V00004  Woodcroft Dental Practice Ltd  E10000032  E12000008   \n",
       "3        V00004  Woodcroft Dental Practice Ltd  E10000032  E12000008   \n",
       "4        V00005           Apex Dental Care Ltd  E10000032  E12000008   \n",
       "\n",
       "          Age_Band  PSEEN_TOTAL  \n",
       "0  ADULT_24_months         2623  \n",
       "1  CHILD_12_months          801  \n",
       "2  ADULT_24_months         1960  \n",
       "3  CHILD_12_months          604  \n",
       "4  ADULT_24_months         8516  "
      ]
     },
     "execution_count": 120,
     "metadata": {},
     "output_type": "execute_result"
    }
   ],
   "source": [
    "dataset1.head()"
   ]
  },
  {
   "cell_type": "code",
   "execution_count": 121,
   "metadata": {},
   "outputs": [
    {
     "data": {
      "text/plain": [
       "array(['E12000008', 'E12000009', 'E12000002', 'E12000007', 'E12000004',\n",
       "       'E12000005', 'E12000003', 'E12000001', 'E12000006'], dtype=object)"
      ]
     },
     "execution_count": 121,
     "metadata": {},
     "output_type": "execute_result"
    }
   ],
   "source": [
    "(unique_GOR10CD := dataset1.GOR10CD.unique())"
   ]
  },
  {
   "cell_type": "code",
   "execution_count": 122,
   "metadata": {},
   "outputs": [
    {
     "data": {
      "text/plain": [
       "array(['E10000032', 'E10000008', 'E06000042', 'E10000027', 'E10000014',\n",
       "       'E06000035', 'E08000007', 'E09000010', 'E06000016', 'E06000039',\n",
       "       'E09000027', 'E08000027', 'E09000030', 'E08000019', 'E06000018',\n",
       "       'E10000024', 'E06000037', 'E10000025', 'E10000028', 'E08000035',\n",
       "       'E06000046', 'E08000010', 'E10000016', 'E09000023', 'E08000003',\n",
       "       'E06000007', 'E06000003', 'E06000002', 'E06000001', 'E10000009',\n",
       "       'E06000004', 'E08000004', 'E10000018', 'E09000009', 'E10000021',\n",
       "       'E08000028', 'E09000022', 'E08000025', 'E06000054', 'E06000010',\n",
       "       'E06000055', 'E08000036', 'E10000031', 'E08000008', 'E10000029',\n",
       "       'E06000021', 'E06000008', 'E06000047', 'E06000030', 'E09000028',\n",
       "       'E10000020', 'E10000002', 'E06000014', 'E09000033', 'E09000012',\n",
       "       'E10000017', 'E10000015', 'E06000032', 'E06000043', 'E10000011',\n",
       "       'E10000012', 'E09000004', 'E09000003', 'E08000009', 'E08000026',\n",
       "       'E06000052', 'E08000012', 'E09000018', 'E09000019', 'E06000050',\n",
       "       'E06000009', 'E09000008', 'E09000006', 'E06000056', 'E10000034',\n",
       "       'E08000015', 'E06000051', 'E08000018', 'E10000013', 'E06000027',\n",
       "       'E06000005', 'E08000023', 'E09000005', 'E09000017', 'E09000026',\n",
       "       'E08000030', 'E08000021', 'E08000024', 'E08000022', 'E08000037',\n",
       "       'E09000007', 'E06000034', 'E09000011', 'E08000033', 'E10000003',\n",
       "       'E06000028', 'E06000029', 'E08000032', 'E09000021', 'E10000030',\n",
       "       'E09000032', 'E06000025', 'E09000015', 'E09000031', 'E08000034',\n",
       "       'E09000001', 'E10000007', 'E06000057', 'E08000006', 'E09000002',\n",
       "       'E10000006', 'E08000017', 'E06000020', 'E09000025', 'E06000015',\n",
       "       'E09000016', 'E06000045', 'E06000041', 'E06000036', 'E06000011',\n",
       "       'E06000026', 'E06000040', 'E08000016', 'E09000020', 'E10000023',\n",
       "       'E09000013', 'E09000029', 'E09000024', 'E06000049', 'E09000014',\n",
       "       'E06000017', 'E06000044', 'E10000019', 'E08000001', 'E06000012',\n",
       "       'E06000038', 'E08000011', 'E08000013', 'E06000022', 'E06000019',\n",
       "       'E08000031', 'E08000029', 'E06000031', 'E06000023', 'E06000033',\n",
       "       'E08000005', 'E06000013', 'E08000014', 'E06000006', 'E08000002',\n",
       "       'E06000024'], dtype=object)"
      ]
     },
     "execution_count": 122,
     "metadata": {},
     "output_type": "execute_result"
    }
   ],
   "source": [
    "(unique_LA_CODE := dataset1.LA_CODE.unique())"
   ]
  },
  {
   "cell_type": "code",
   "execution_count": 123,
   "metadata": {},
   "outputs": [
    {
     "data": {
      "text/plain": [
       "GOR10CD\n",
       "E12000001    12\n",
       "E12000002    23\n",
       "E12000003    15\n",
       "E12000004     9\n",
       "E12000005    14\n",
       "E12000006    11\n",
       "E12000007    33\n",
       "E12000008    19\n",
       "E12000009    15\n",
       "Name: LA_CODE, dtype: int64"
      ]
     },
     "execution_count": 123,
     "metadata": {},
     "output_type": "execute_result"
    }
   ],
   "source": [
    "#source of code : https://stackoverflow.com/questions/38309729/count-unique-values-per-groups-with-pandas/38309823#38309823\n",
    "(unique_GOR10CD_by_LA_CODE := dataset1.groupby('GOR10CD')['LA_CODE'].nunique())"
   ]
  },
  {
   "cell_type": "code",
   "execution_count": 124,
   "metadata": {},
   "outputs": [
    {
     "data": {
      "text/plain": [
       "pandas.core.series.Series"
      ]
     },
     "execution_count": 124,
     "metadata": {},
     "output_type": "execute_result"
    }
   ],
   "source": [
    "type(unique_GOR10CD_by_LA_CODE)"
   ]
  },
  {
   "cell_type": "code",
   "execution_count": 125,
   "metadata": {},
   "outputs": [
    {
     "data": {
      "text/plain": [
       "151"
      ]
     },
     "execution_count": 125,
     "metadata": {},
     "output_type": "execute_result"
    }
   ],
   "source": [
    "unique_GOR10CD_by_LA_CODE.sum()"
   ]
  },
  {
   "cell_type": "code",
   "execution_count": 126,
   "metadata": {},
   "outputs": [
    {
     "data": {
      "text/plain": [
       "151"
      ]
     },
     "execution_count": 126,
     "metadata": {},
     "output_type": "execute_result"
    }
   ],
   "source": [
    "len(unique_LA_CODE)"
   ]
  },
  {
   "cell_type": "markdown",
   "metadata": {},
   "source": [
    "there fore data is hierarchical\n",
    "w/ Geo Code -> LA Code. NO overlap."
   ]
  },
  {
   "cell_type": "code",
   "execution_count": 127,
   "metadata": {
    "scrolled": true
   },
   "outputs": [
    {
     "data": {
      "text/html": [
       "<div>\n",
       "<style scoped>\n",
       "    .dataframe tbody tr th:only-of-type {\n",
       "        vertical-align: middle;\n",
       "    }\n",
       "\n",
       "    .dataframe tbody tr th {\n",
       "        vertical-align: top;\n",
       "    }\n",
       "\n",
       "    .dataframe thead th {\n",
       "        text-align: right;\n",
       "    }\n",
       "</style>\n",
       "<table border=\"1\" class=\"dataframe\">\n",
       "  <thead>\n",
       "    <tr style=\"text-align: right;\">\n",
       "      <th></th>\n",
       "      <th></th>\n",
       "      <th>PSEEN_TOTAL</th>\n",
       "    </tr>\n",
       "    <tr>\n",
       "      <th>GOR10CD</th>\n",
       "      <th>LA_CODE</th>\n",
       "      <th></th>\n",
       "    </tr>\n",
       "  </thead>\n",
       "  <tbody>\n",
       "    <tr>\n",
       "      <th rowspan=\"5\" valign=\"top\">E12000001</th>\n",
       "      <th>E06000001</th>\n",
       "      <td>49149</td>\n",
       "    </tr>\n",
       "    <tr>\n",
       "      <th>E06000002</th>\n",
       "      <td>95773</td>\n",
       "    </tr>\n",
       "    <tr>\n",
       "      <th>E06000003</th>\n",
       "      <td>81944</td>\n",
       "    </tr>\n",
       "    <tr>\n",
       "      <th>E06000004</th>\n",
       "      <td>115343</td>\n",
       "    </tr>\n",
       "    <tr>\n",
       "      <th>E06000005</th>\n",
       "      <td>63665</td>\n",
       "    </tr>\n",
       "    <tr>\n",
       "      <th>...</th>\n",
       "      <th>...</th>\n",
       "      <td>...</td>\n",
       "    </tr>\n",
       "    <tr>\n",
       "      <th rowspan=\"5\" valign=\"top\">E12000009</th>\n",
       "      <th>E06000054</th>\n",
       "      <td>226079</td>\n",
       "    </tr>\n",
       "    <tr>\n",
       "      <th>E10000008</th>\n",
       "      <td>429960</td>\n",
       "    </tr>\n",
       "    <tr>\n",
       "      <th>E10000009</th>\n",
       "      <td>210837</td>\n",
       "    </tr>\n",
       "    <tr>\n",
       "      <th>E10000013</th>\n",
       "      <td>291023</td>\n",
       "    </tr>\n",
       "    <tr>\n",
       "      <th>E10000027</th>\n",
       "      <td>316320</td>\n",
       "    </tr>\n",
       "  </tbody>\n",
       "</table>\n",
       "<p>151 rows × 1 columns</p>\n",
       "</div>"
      ],
      "text/plain": [
       "                     PSEEN_TOTAL\n",
       "GOR10CD   LA_CODE               \n",
       "E12000001 E06000001        49149\n",
       "          E06000002        95773\n",
       "          E06000003        81944\n",
       "          E06000004       115343\n",
       "          E06000005        63665\n",
       "...                          ...\n",
       "E12000009 E06000054       226079\n",
       "          E10000008       429960\n",
       "          E10000009       210837\n",
       "          E10000013       291023\n",
       "          E10000027       316320\n",
       "\n",
       "[151 rows x 1 columns]"
      ]
     },
     "execution_count": 127,
     "metadata": {},
     "output_type": "execute_result"
    }
   ],
   "source": [
    "(sum_df := dataset1.groupby(['GOR10CD','LA_CODE']).agg({'PSEEN_TOTAL': 'sum'}))\n",
    "## source of the code: \"https://stackoverflow.com/questions/40553002/pandas-group-by-two-columns-to-get-sum-of-another-column\""
   ]
  },
  {
   "cell_type": "code",
   "execution_count": 128,
   "metadata": {},
   "outputs": [],
   "source": [
    "dataset2_sheets['KS101EW_Ranks'] = dataset2_sheets['KS101EW_Ranks'][8:-4]"
   ]
  },
  {
   "cell_type": "code",
   "execution_count": 129,
   "metadata": {},
   "outputs": [],
   "source": [
    "dataset2_sheets['KS101EW_Ranks'] = dataset2_sheets['KS101EW_Ranks'].drop(columns =['Unnamed: 5', 'Unnamed: 6', 'Unnamed: 7', 'Unnamed: 8', 'Unnamed: 9','Unnamed: 10', 'Unnamed: 11'])"
   ]
  },
  {
   "cell_type": "code",
   "execution_count": 130,
   "metadata": {},
   "outputs": [],
   "source": [
    "#dataset2_sheets['KS101EW_Ranks']"
   ]
  },
  {
   "cell_type": "code",
   "execution_count": 131,
   "metadata": {},
   "outputs": [],
   "source": [
    "dataset2_sheets['KS101EW_Ranks'].rename(columns={\"Table KS101EW\": \"region code\", \"Unnamed: 1\": \"region name\", \"Unnamed: 2\":\"LACode\", \"Unnamed: 3\":\"LAName\", \"Unnamed: 4\":\"population\"}, inplace=True)"
   ]
  },
  {
   "cell_type": "code",
   "execution_count": 132,
   "metadata": {},
   "outputs": [
    {
     "data": {
      "text/html": [
       "<div>\n",
       "<style scoped>\n",
       "    .dataframe tbody tr th:only-of-type {\n",
       "        vertical-align: middle;\n",
       "    }\n",
       "\n",
       "    .dataframe tbody tr th {\n",
       "        vertical-align: top;\n",
       "    }\n",
       "\n",
       "    .dataframe thead th {\n",
       "        text-align: right;\n",
       "    }\n",
       "</style>\n",
       "<table border=\"1\" class=\"dataframe\">\n",
       "  <thead>\n",
       "    <tr style=\"text-align: right;\">\n",
       "      <th></th>\n",
       "      <th>region code</th>\n",
       "      <th>region name</th>\n",
       "      <th>LACode</th>\n",
       "      <th>LAName</th>\n",
       "      <th>population</th>\n",
       "    </tr>\n",
       "  </thead>\n",
       "  <tbody>\n",
       "    <tr>\n",
       "      <th>14</th>\n",
       "      <td>E12000001</td>\n",
       "      <td>North East</td>\n",
       "      <td>E06000047</td>\n",
       "      <td>County Durham UA</td>\n",
       "      <td>513242</td>\n",
       "    </tr>\n",
       "    <tr>\n",
       "      <th>15</th>\n",
       "      <td>E12000001</td>\n",
       "      <td>North East</td>\n",
       "      <td>E06000005</td>\n",
       "      <td>Darlington UA</td>\n",
       "      <td>105564</td>\n",
       "    </tr>\n",
       "    <tr>\n",
       "      <th>16</th>\n",
       "      <td>E12000001</td>\n",
       "      <td>North East</td>\n",
       "      <td>E06000001</td>\n",
       "      <td>Hartlepool UA</td>\n",
       "      <td>92028</td>\n",
       "    </tr>\n",
       "    <tr>\n",
       "      <th>17</th>\n",
       "      <td>E12000001</td>\n",
       "      <td>North East</td>\n",
       "      <td>E06000002</td>\n",
       "      <td>Middlesbrough UA</td>\n",
       "      <td>138412</td>\n",
       "    </tr>\n",
       "    <tr>\n",
       "      <th>18</th>\n",
       "      <td>E12000001</td>\n",
       "      <td>North East</td>\n",
       "      <td>E06000048</td>\n",
       "      <td>Northumberland UA</td>\n",
       "      <td>316028</td>\n",
       "    </tr>\n",
       "    <tr>\n",
       "      <th>...</th>\n",
       "      <td>...</td>\n",
       "      <td>...</td>\n",
       "      <td>...</td>\n",
       "      <td>...</td>\n",
       "      <td>...</td>\n",
       "    </tr>\n",
       "    <tr>\n",
       "      <th>357</th>\n",
       "      <td>W92000004</td>\n",
       "      <td>Wales</td>\n",
       "      <td>W06000018</td>\n",
       "      <td>Caerphilly</td>\n",
       "      <td>178806</td>\n",
       "    </tr>\n",
       "    <tr>\n",
       "      <th>358</th>\n",
       "      <td>W92000004</td>\n",
       "      <td>Wales</td>\n",
       "      <td>W06000019</td>\n",
       "      <td>Blaenau Gwent</td>\n",
       "      <td>69814</td>\n",
       "    </tr>\n",
       "    <tr>\n",
       "      <th>359</th>\n",
       "      <td>W92000004</td>\n",
       "      <td>Wales</td>\n",
       "      <td>W06000020</td>\n",
       "      <td>Torfaen</td>\n",
       "      <td>91075</td>\n",
       "    </tr>\n",
       "    <tr>\n",
       "      <th>360</th>\n",
       "      <td>W92000004</td>\n",
       "      <td>Wales</td>\n",
       "      <td>W06000021</td>\n",
       "      <td>Monmouthshire</td>\n",
       "      <td>91323</td>\n",
       "    </tr>\n",
       "    <tr>\n",
       "      <th>361</th>\n",
       "      <td>W92000004</td>\n",
       "      <td>Wales</td>\n",
       "      <td>W06000022</td>\n",
       "      <td>Newport</td>\n",
       "      <td>145736</td>\n",
       "    </tr>\n",
       "  </tbody>\n",
       "</table>\n",
       "<p>348 rows × 5 columns</p>\n",
       "</div>"
      ],
      "text/plain": [
       "    region code region name     LACode             LAName population\n",
       "14    E12000001  North East  E06000047   County Durham UA     513242\n",
       "15    E12000001  North East  E06000005      Darlington UA     105564\n",
       "16    E12000001  North East  E06000001      Hartlepool UA      92028\n",
       "17    E12000001  North East  E06000002   Middlesbrough UA     138412\n",
       "18    E12000001  North East  E06000048  Northumberland UA     316028\n",
       "..          ...         ...        ...                ...        ...\n",
       "357   W92000004       Wales  W06000018         Caerphilly     178806\n",
       "358   W92000004       Wales  W06000019      Blaenau Gwent      69814\n",
       "359   W92000004       Wales  W06000020            Torfaen      91075\n",
       "360   W92000004       Wales  W06000021      Monmouthshire      91323\n",
       "361   W92000004       Wales  W06000022            Newport     145736\n",
       "\n",
       "[348 rows x 5 columns]"
      ]
     },
     "execution_count": 132,
     "metadata": {},
     "output_type": "execute_result"
    }
   ],
   "source": [
    "dataset2_sheets['KS101EW_Ranks']"
   ]
  },
  {
   "cell_type": "code",
   "execution_count": null,
   "metadata": {},
   "outputs": [],
   "source": []
  }
 ],
 "metadata": {
  "kernelspec": {
   "display_name": "Python 3",
   "language": "python",
   "name": "python3"
  },
  "language_info": {
   "codemirror_mode": {
    "name": "ipython",
    "version": 3
   },
   "file_extension": ".py",
   "mimetype": "text/x-python",
   "name": "python",
   "nbconvert_exporter": "python",
   "pygments_lexer": "ipython3",
   "version": "3.8.5"
  }
 },
 "nbformat": 4,
 "nbformat_minor": 4
}
